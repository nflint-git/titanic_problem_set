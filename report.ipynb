{
 "cells": [
  {
   "cell_type": "markdown",
   "metadata": {},
   "source": [
    "For the graphs created, those colored by survival are more relevant for feature engineering, as they help illustrate the relationship between the explanatory variables and the outcome variable. While graphs colored by the train-test split remain useful for identifying any potential biases in the data partitioning, which could lead to inconsistencies between the training and testing sets, the primary focus should be on the survival-based coloring for feature analysis."
   ]
  },
  {
   "cell_type": "markdown",
   "metadata": {},
   "source": [
    "In particular, the analysis reveals that females are more likely to survive. Additionally, passengers in PClass 1 have a higher likelihood of survival compared to those in PClass 2 and 3. Having one sibling appears to increase the survival rate, and for age, infants demonstrate an unusually high survival proportion."
   ]
  },
  {
   "cell_type": "markdown",
   "metadata": {},
   "source": [
    "![Image description](figures/sex_outcome.png)"
   ]
  }
 ],
 "metadata": {
  "language_info": {
   "name": "python"
  }
 },
 "nbformat": 4,
 "nbformat_minor": 2
}
